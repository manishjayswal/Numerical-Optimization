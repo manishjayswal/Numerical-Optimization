{
 "cells": [
  {
   "cell_type": "markdown",
   "metadata": {},
   "source": [
    "# Name : Manish Jayswal\n",
    "# SR No.: 18844\n",
    "# Degree : M.Tech Coursework(CDS)\n",
    "# Subject : Numerical Optimization Assignment#3"
   ]
  },
  {
   "cell_type": "code",
   "execution_count": 138,
   "metadata": {},
   "outputs": [],
   "source": [
    "import numpy as np\n",
    "import pandas as pd\n",
    "import matplotlib.pyplot as plt\n",
    "from scipy.linalg import hilbert #library to generate hilbert matrix\n",
    "from sklearn.metrics import mean_squared_error"
   ]
  },
  {
   "cell_type": "code",
   "execution_count": 139,
   "metadata": {},
   "outputs": [],
   "source": [
    "tolerance = 10**(-6)\n",
    "dimensions = [5, 8, 12, 20]"
   ]
  },
  {
   "cell_type": "code",
   "execution_count": null,
   "metadata": {},
   "outputs": [],
   "source": []
  },
  {
   "cell_type": "markdown",
   "metadata": {},
   "source": [
    "# Q1(a)"
   ]
  },
  {
   "cell_type": "code",
   "execution_count": 140,
   "metadata": {},
   "outputs": [
    {
     "name": "stdout",
     "output_type": "stream",
     "text": [
      "The number of iterations to solve for dimension n = 5 is 5\n",
      "The number of iterations to solve for dimension n = 8 is 17\n",
      "The number of iterations to solve for dimension n = 12 is 35\n",
      "The number of iterations to solve for dimension n = 20 is 129\n"
     ]
    }
   ],
   "source": [
    "def ConjugateGradient(n):\n",
    "    H = hilbert(n)\n",
    "    b = np.ones((n,1))\n",
    "    x0 = np.zeros((n,1))\n",
    "    r0 = H @ x0 - b\n",
    "    p0 = -r0\n",
    "    for i in range(200):\n",
    "        s = H @ p0\n",
    "        alpha = (r0.T @ r0) / (p0.T @ s)\n",
    "        x_i = x0 + alpha * p0\n",
    "        r_i = r0 + alpha * s\n",
    "        beta = (r_i.T @ r_i) / (r0.T @ r0)\n",
    "        p_i = -r_i + beta * p0\n",
    "        norm = np.linalg.norm(r_i,2)\n",
    "        if (norm<tolerance):\n",
    "            break\n",
    "            \n",
    "        p0 = p_i\n",
    "        x0 = x_i\n",
    "        r0 = r_i\n",
    "    return i\n",
    "for dim in dimensions:\n",
    "        print(\"The number of iterations to solve for dimension n = {} is {}\".format(dim, ConjugateGradient(dim)))    "
   ]
  },
  {
   "cell_type": "markdown",
   "metadata": {},
   "source": [
    "# Q1(b)"
   ]
  },
  {
   "cell_type": "code",
   "execution_count": 141,
   "metadata": {},
   "outputs": [
    {
     "name": "stdout",
     "output_type": "stream",
     "text": [
      "Using Preconditioned Conjugate Gradient:\n",
      "\n",
      "The number of iterations to solve for dimension n = 5 is 4\n",
      "The number of iterations to solve for dimension n = 8 is 15\n",
      "The number of iterations to solve for dimension n = 12 is 30\n",
      "The number of iterations to solve for dimension n = 20 is 106\n"
     ]
    }
   ],
   "source": [
    "# Using SSOR preconditioner\n",
    "def precod(n):\n",
    "    H = hilbert(n)\n",
    "    D = np.diag(np.diag(H)) #diagonal matrix\n",
    "    L = np.tril(H)  #Strictly Lower Triangular matrix\n",
    "    U = np.triu(H) #Strictly Upper Triangular matrix\n",
    "    D_inv = np.linalg.inv(D)\n",
    "    M = (D+L) @ D_inv @ (D+U)\n",
    "    return M\n",
    "    \n",
    "#Preconditioned Conjugate Gradients Method    \n",
    "def PreConCG(n):\n",
    "    H = hilbert(n)\n",
    "    b = np.ones((n,1))\n",
    "    x0 = np.zeros((n,1))\n",
    "    r0 = H @ x0 - b\n",
    "    M = precod(n)\n",
    "    M_inv = np.linalg.inv(M)\n",
    "    A = np.linalg.cond(H)\n",
    "    B = np.linalg.cond(M_inv @ H)\n",
    "    p0 = - M_inv @ r0\n",
    "    for i in range(200):\n",
    "        s = H @ p0\n",
    "        alpha = (r0.T @ M_inv @r0) / (p0.T @ s)\n",
    "        x_i = x0 + alpha * p0\n",
    "        r_i = r0 + alpha * s\n",
    "        beta = (r_i.T @ M_inv @ r_i) / (r0.T @ M_inv @ r0)\n",
    "        p_i = - M_inv @ r_i + beta * p0\n",
    "        norm = np.linalg.norm(r_i, 2)\n",
    "        if (norm<tolerance):\n",
    "            break\n",
    "            \n",
    "        p0 = p_i\n",
    "        x0 = x_i\n",
    "        r0 = r_i\n",
    "    return i\n",
    "\n",
    "print(\"Using Preconditioned Conjugate Gradient:\\n\")\n",
    "for dim in dimensions:\n",
    "     print(\"The number of iterations to solve for dimension n = {} is {}\".format(dim, PreConCG(dim)))    "
   ]
  },
  {
   "cell_type": "markdown",
   "metadata": {},
   "source": [
    "# Q1(c)"
   ]
  },
  {
   "cell_type": "code",
   "execution_count": 142,
   "metadata": {},
   "outputs": [
    {
     "name": "stdout",
     "output_type": "stream",
     "text": [
      "\n",
      "The number of iterations to solve for dimension n = 7:\n",
      "\t\t\t\t\t\t using Clustered distribution is 6\n",
      "\t\t\t\t\t\t using nonClustered distribution is 7\n",
      "\n",
      "The number of iterations to solve for dimension n = 9:\n",
      "\t\t\t\t\t\t using Clustered distribution is 8\n",
      "\t\t\t\t\t\t using nonClustered distribution is 9\n",
      "\n",
      "The number of iterations to solve for dimension n = 11:\n",
      "\t\t\t\t\t\t using Clustered distribution is 8\n",
      "\t\t\t\t\t\t using nonClustered distribution is 12\n",
      "\n",
      "The number of iterations to solve for dimension n = 15:\n",
      "\t\t\t\t\t\t using Clustered distribution is 11\n",
      "\t\t\t\t\t\t using nonClustered distribution is 17\n",
      "\n",
      "The number of iterations to solve for dimension n = 25:\n",
      "\t\t\t\t\t\t using Clustered distribution is 11\n",
      "\t\t\t\t\t\t using nonClustered distribution is 31\n"
     ]
    }
   ],
   "source": [
    "def Clustered(A,n):\n",
    "    H = A @ A.T\n",
    "    D = np.diag(np.diag(H)) #diagonal matrix\n",
    "    L = np.tril(H)  #Strictly Lower Triangular matrix\n",
    "    U = np.triu(H) #Strictly Upper Triangular matrix\n",
    "    D_inv = np.linalg.inv(D)\n",
    "    M = (D+L) @ D_inv @ (D+U)\n",
    "    return M\n",
    "    \n",
    "def ConjugateGradient1(str1, n):\n",
    "    A = np.random.rand(n,n)\n",
    "    if(str1 ==\"Clustered\"):\n",
    "        H = Clustered(A,n)\n",
    "    elif(str1=='nonClustered'):\n",
    "        H = A @ A.T\n",
    "    b = np.ones((n,1))\n",
    "    x0 = np.zeros((n,1))\n",
    "    r0 = H @ x0 - b\n",
    "    p0 = -r0\n",
    "    for i in range(1000):\n",
    "        s = H @ p0\n",
    "        alpha = (r0.T @ r0) / (p0.T @ s)\n",
    "        x_i = x0 + alpha * p0\n",
    "        r_i = r0 + alpha * s\n",
    "        beta = (r_i.T @ r_i) / (r0.T @ r0)\n",
    "        p_i = -r_i + beta * p0\n",
    "        norm = np.linalg.norm(r_i,2)\n",
    "        if (norm<tolerance):\n",
    "            break\n",
    "            \n",
    "        p0 = p_i\n",
    "        x0 = x_i\n",
    "        r0 = r_i\n",
    "    return i\n",
    "distributions = [\"Clustered\", \"nonClustered\"]\n",
    "for dim in [7,9,11,15,25]:\n",
    "    print(\"\\nThe number of iterations to solve for dimension n = {}:\".format(dim))\n",
    "    for distribution in distributions:\n",
    "        print(\"\\t\\t\\t\\t\\t\\t using {} distribution is {}\".format(distribution, ConjugateGradient1(distribution,dim)))    "
   ]
  },
  {
   "cell_type": "code",
   "execution_count": null,
   "metadata": {},
   "outputs": [],
   "source": []
  },
  {
   "cell_type": "code",
   "execution_count": null,
   "metadata": {},
   "outputs": [],
   "source": []
  },
  {
   "cell_type": "markdown",
   "metadata": {},
   "source": [
    "# Q1(d)"
   ]
  },
  {
   "cell_type": "code",
   "execution_count": 143,
   "metadata": {
    "scrolled": false
   },
   "outputs": [],
   "source": [
    "X = np.load('data_x.npy')\n",
    "mean = np.mean(X)\n",
    "std = np.std(X)\n",
    "y = np.exp(-(X-mean)**2/(2*std**2)) / (std*(2*np.pi)**(1/2))\n",
    "order = 8  #optimal order 8\n",
    "A1 = np.zeros((len(y), order))\n",
    "for i in range(len(y)):\n",
    "    for j in range(order):\n",
    "        A1[i][j] = X[i]**j\n",
    "\n",
    "H = A1.T @ A1\n",
    "b = np.array([A1.T @ y])"
   ]
  },
  {
   "cell_type": "code",
   "execution_count": 144,
   "metadata": {},
   "outputs": [],
   "source": [
    "def ConjugateGradient2(n):\n",
    "    x0 = np.zeros((n,1))\n",
    "    r0 = H @ x0 - b.T\n",
    "    p0 = -r0\n",
    "    xlist1 = []\n",
    "    for i in range(500):\n",
    "        xlist1.append(x0)\n",
    "        s = H @ p0\n",
    "        alpha = (r0.T @ r0) / (p0.T @ s)\n",
    "        x_i = x0 + alpha * p0\n",
    "        r_i = r0 + alpha * s\n",
    "        beta = (r_i.T @ r_i) / (r0.T @ r0)\n",
    "        p_i = -r_i + beta * p0\n",
    "        norm = np.linalg.norm(r_i,2)\n",
    "        if (norm<tolerance):\n",
    "            break\n",
    "            \n",
    "        p0 = p_i\n",
    "        x0 = x_i\n",
    "        r0 = r_i\n",
    "    return xlist1\n"
   ]
  },
  {
   "cell_type": "code",
   "execution_count": 145,
   "metadata": {},
   "outputs": [
    {
     "name": "stdout",
     "output_type": "stream",
     "text": [
      "\n",
      "The coefficient vector for this model is : \n",
      "[[-3.15185383e+00]\n",
      " [ 3.56593585e-01]\n",
      " [-1.55715673e-02]\n",
      " [ 3.17139347e-04]\n",
      " [-2.53969826e-06]\n",
      " [-7.99050722e-09]\n",
      " [ 2.44966532e-10]\n",
      " [-1.05359044e-12]]\n",
      "\n",
      "MSE : 1.1567876633495509e-07\n"
     ]
    }
   ],
   "source": [
    "xlist1 = ConjugateGradient2(len(H))\n",
    "b_calculated = xlist1[-1]\n",
    "y_predicted = A1 @ b_calculated\n",
    "MSE = mean_squared_error(Y, y_predicted)\n",
    "\n",
    "print(\"\\nThe coefficient vector for this model is : \\n{}\".format(b_calculated))\n",
    "print(\"\\nMSE : {}\".format(MSE))"
   ]
  },
  {
   "cell_type": "code",
   "execution_count": null,
   "metadata": {},
   "outputs": [],
   "source": []
  },
  {
   "cell_type": "markdown",
   "metadata": {},
   "source": [
    "# Q(2)"
   ]
  },
  {
   "cell_type": "code",
   "execution_count": 146,
   "metadata": {},
   "outputs": [],
   "source": [
    "import pandas as pd\n",
    "import matplotlib.pyplot as plt\n",
    "from sklearn.metrics import mean_squared_error\n",
    "from numpy.linalg import norm\n",
    "from math import sqrt\n",
    "tol = 10**(-5)"
   ]
  },
  {
   "cell_type": "code",
   "execution_count": 147,
   "metadata": {},
   "outputs": [],
   "source": [
    "#Rosenbrock's function\n",
    "def f(x):\n",
    "    return (1-x[0])**2 + 20*(x[1]-x[0]**2)**2\n",
    "\n",
    "def J(x):\n",
    "    dfx = 2*(x[0]-1) -4*20*x[0]*(x[1]-x[0]**2)\n",
    "    dfy = 2*20*(x[1]-x[0]**2)\n",
    "    return np.array([dfx, dfy])\n",
    "    \n",
    "def H(x):\n",
    "    dfxx = 2 - 4*20*(x[1]-3*x[0]**2) \n",
    "    dfxy = dfyx = -4*20*x[0]\n",
    "    dfyy = 2*20\n",
    "    return np.array([[dfxx, dfxy],[dfyx, dfyy]])"
   ]
  },
  {
   "cell_type": "code",
   "execution_count": 148,
   "metadata": {},
   "outputs": [],
   "source": [
    "def dogleg_subProblem(Bk, gk, Hk, rk):\n",
    "    Hk = np.linalg.inv(Bk)\n",
    "    pU = - ((gk.T @ gk) / (gk.T @ Bk @ gk)) * gk\n",
    "    if norm(pU) >= rk:\n",
    "        return rk * pU / norm(pU)\n",
    "    pB = -Hk @ gk\n",
    "    if norm(pB) <= rk:\n",
    "        return pB\n",
    "    pB_pU = pB - pU\n",
    "    Tau = (-(pU.T @ pB_pU) + sqrt((pU.T @ pB_pU)**2 - pB_pU.T @ pB_pU  * (pU.T @ pU - rk**2))) / (pB_pU.T @ pB_pU)\n",
    "    result = pU + pB_pU * Tau\n",
    "    return result"
   ]
  },
  {
   "cell_type": "code",
   "execution_count": 149,
   "metadata": {},
   "outputs": [],
   "source": [
    "def trustRegion(xk,rk):\n",
    "    k = 0\n",
    "    xlist = [xk]\n",
    "    itr_list = [k]    \n",
    "    maxm_iter = 100\n",
    "    while (1):\n",
    "        gk = J(xk)\n",
    "        Bk = H(xk)\n",
    "        Hk = np.linalg.inv(Bk)\n",
    "        \n",
    "        pk = dogleg_subProblem(Bk, gk, Hk, rk)\n",
    "        numerator = f(xk) - f(xk + pk)\n",
    "        denominator = -(gk.T @ pk + 0.5 * pk.T @ Bk @ pk)\n",
    "        if denominator == 0.0:\n",
    "            rhok = 1e100\n",
    "        else:\n",
    "            rhok = numerator / denominator\n",
    "        norm_pk = norm(pk)\n",
    "        if rhok < rho_l:\n",
    "            rk = 0.25 * norm_pk\n",
    "        else: \n",
    "            if rhok > rho_h and norm_pk == rk:\n",
    "                rk = min(2.0*rk, rm)\n",
    "            else:\n",
    "                rk = rk\n",
    "        if rhok > eta:\n",
    "            xk = xk + pk\n",
    "        else:\n",
    "            xk = xk\n",
    "        if norm(gk) < tol:\n",
    "            break\n",
    "        \n",
    "        if k >= maxm_iter:\n",
    "            break\n",
    "        k = k + 1\n",
    "        xlist.append(xk)\n",
    "        itr_list.append(k)\n",
    "    return itr_list, xlist    "
   ]
  },
  {
   "cell_type": "code",
   "execution_count": 150,
   "metadata": {},
   "outputs": [
    {
     "name": "stdout",
     "output_type": "stream",
     "text": [
      "\n",
      "For initial guess: x0 = [ 0. -1.], the total number of iterations taken are 11\n",
      "Computed solution of of given problem using dogleg method is x = [0.99999996 0.99999991]\n",
      "The value of function at this point is 2.9477808753850633e-15\n",
      "\n",
      "For initial guess: x0 = [0.  0.5], the total number of iterations taken are 15\n",
      "Computed solution of of given problem using dogleg method is x = [0.99999987 0.99999973]\n",
      "The value of function at this point is 1.8247415784723367e-14\n"
     ]
    }
   ],
   "source": [
    "r = 1.0\n",
    "rm = 100.0\n",
    "eta = 0.2\n",
    "\n",
    "rho_l = 0.25\n",
    "rho_h = 0.75\n",
    "\n",
    "# Initial guesses \n",
    "x = np.array([[0,-1],[0,0.5]])\n",
    "for i in range(2):\n",
    "    num_iteration, x_list = trustRegion(x[i],r)\n",
    "    print(\"\\nFor initial guess: x0 = {}, the total number of iterations taken are {}\".format(x[i],num_iteration[-1]))\n",
    "    print(\"Computed solution of of given problem using dogleg method is x = {}\".format(x_list[-1]))\n",
    "    print(\"The value of function at this point is {}\".format(f(x_list[-1])))"
   ]
  },
  {
   "cell_type": "code",
   "execution_count": null,
   "metadata": {},
   "outputs": [],
   "source": []
  }
 ],
 "metadata": {
  "kernelspec": {
   "display_name": "Python 3",
   "language": "python",
   "name": "python3"
  },
  "language_info": {
   "codemirror_mode": {
    "name": "ipython",
    "version": 3
   },
   "file_extension": ".py",
   "mimetype": "text/x-python",
   "name": "python",
   "nbconvert_exporter": "python",
   "pygments_lexer": "ipython3",
   "version": "3.6.9"
  }
 },
 "nbformat": 4,
 "nbformat_minor": 2
}
