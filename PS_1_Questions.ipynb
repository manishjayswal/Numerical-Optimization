{
  "nbformat": 4,
  "nbformat_minor": 0,
  "metadata": {
    "colab": {
      "name": "PS-1-Questions.ipynb",
      "provenance": [],
      "collapsed_sections": []
    },
    "kernelspec": {
      "name": "python3",
      "display_name": "Python 3"
    },
    "language_info": {
      "name": "python"
    }
  },
  "cells": [
    {
      "cell_type": "markdown",
      "metadata": {
        "id": "LsZT-5WYWOAY"
      },
      "source": [
        "# DS-211 : Aug-2021 : PS-1\n",
        "\n",
        "## **Question : 1** \n",
        "\n",
        "<font color=\"blue\">\n",
        "Least Squares Approximated Gaussian Distribution:</font> The task is to analyze the marksscored (out of 100) by 1000 students in a competitive exam using least squares approximated Gaussian distribution.\n"
      ]
    },
    {
      "cell_type": "markdown",
      "metadata": {
        "id": "c00IdKLL395j"
      },
      "source": [
        "1. Download the data (marks obtained by 1000 students) given [here](https://drive.google.com/file/d/1dR8eKQcoGIfMocIU18B3rPO58Os2rXFO/view?usp=sharing), and model the data distribution as shown below. Plot the histogram of the data and the Gaussian Fit.  **[0.5 Point]**\n",
        "\n",
        "\n",
        "\n",
        "\n",
        "![Screenshot from 2021-08-06 15-25-59.png](data:image/png;base64,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)"
      ]
    },
    {
      "cell_type": "markdown",
      "metadata": {
        "id": "i6HetfBK7n5r"
      },
      "source": [
        "\n",
        "2. Polynomial curve fitting using least squares for the data points (x, y). Note that we have modelled 'y' in part 1 of the question. Use the first 750 data points to regress the coefficient vector [β0 β1 β2 ... βn] and validate your obtained fit on the remaining held out 250 data points. The polynomial fit can be modelled as :\n",
        "\n",
        "![Screenshot from 2021-08-06 15-47-37.png](data:image/png;base64,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)"
      ]
    },
    {
      "cell_type": "markdown",
      "metadata": {
        "id": "KePmNFeK-81Y"
      },
      "source": [
        "\n",
        "\n",
        "*  Formulate the above shown polynomial fit as a least squares problem and solve it using the pseudoinverse.  Experiment with different values of ‘n’ and report the optimal order of the polynomial for the problem at hand.  Also, report the plot \"Mean square Error (MSE) vs n\". Compute the MSE from held out 250 data points. **[1 Point]**\n",
        " \n",
        "\n",
        "\n",
        "\n",
        "\n",
        "\n",
        "\n",
        "\n",
        "\n"
      ]
    },
    {
      "cell_type": "markdown",
      "metadata": {
        "id": "Buy7XxdHR8_H"
      },
      "source": [
        "\n",
        "\n",
        "*   For  the  optimal  ‘n’  found  above,  can  we  solve  the  least  squares  problem  using the Cholesky Decomposition ? If yes, solve it and compare the polynomial fits obtained using pseudoinverse and Cholesky.  If not, then justify your answer. If required you are free to use the in built functions for computing cholesky decomposition. **[1 Point]**\n",
        "\n",
        "\n",
        "\n",
        "\n"
      ]
    },
    {
      "cell_type": "markdown",
      "metadata": {
        "id": "Mt2rWbc9IH-H"
      },
      "source": [
        "# **Question : 2**\n",
        "\n",
        "**Portfolio Optimization Problem Formulation:**  Assume that you have some fixed amount of money and you plan to invest in a set of stocks A, B, C, D, E, F, G, H, I and J. From the last 10 years data, the relative price changes of these stocks was modelled using the mean vector (given [here](https://drive.google.com/file/d/1oNuKvtbZlRinTDs3TpVKZrLlkhnHiwd9/view?usp=sharing)) and the covariance matrix (given [here](https://drive.google.com/file/d/1eKZgttmQWW-MHDwnhXyooHkSCjd_s6xt/view?usp=sharing)). Formulate an optimization problem and optimize it using the [cvxopt](https://cvxopt.org/index.html/) library and predict the optimal split of money to be invested (in %) amongst these stocks so that we have a minimum return of atleast 60 %. Comment your code at appropriate locations.\n",
        "\n",
        "Cost Function : **[0.75 Point]** Constraints   : **[0.75 Point]** Solving : **[1 Point]**\n",
        "\n",
        "\n",
        "\n",
        "\n"
      ]
    }
  ]
}